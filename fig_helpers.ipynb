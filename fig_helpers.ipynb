{
 "cells": [
  {
   "cell_type": "code",
   "execution_count": null,
   "metadata": {},
   "outputs": [],
   "source": [
    "import json\n",
    "import numpy as np\n",
    "from matplotlib import pyplot as plt\n",
    "\n",
    "def draw(x, ys, legends = None, font_size = 12):\n",
    "    \"\"\"\n",
    "        Draw non-locality plots\n",
    "    \"\"\"\n",
    "    for i in range(len(ys)):\n",
    "        plt.plot(x, ys[i], label = legends[i] if legends != None else None)\n",
    "        \n",
    "    plt.xlim(-1, 305)\n",
    "    plt.ylim(3, 8)\n",
    "    plt.title('Ours', fontsize = font_size+1)\n",
    "    plt.xlabel('Epochs', fontsize= font_size)\n",
    "    plt.ylabel('Non-locality', fontsize= font_size)\n",
    "    \n",
    "    plt.xticks(fontsize=font_size)\n",
    "    plt.yticks(fontsize=font_size)\n",
    "    \n",
    "    plt.legend()\n",
    "    plt.show()\n",
    "\n",
    "\"\"\"\n",
    "    nonlocality for each epoch example:\n",
    "    {\n",
    "        0: [a, b, c, ...]   # len: n_heads\n",
    "        1: [a, b, c, ...]   # len: n_heads\n",
    "        ...\n",
    "        n_layer-1: [a, b, c, ...] # len: n_heads\n",
    "    }\n",
    "\"\"\"\n",
    "def get_layer_nonlocalities(layer_data):\n",
    "    \"\"\"\n",
    "        layer_data shape: (epochs, n_layer, n_heads)\n",
    "        Return shape: (n_layer, epochs)\n",
    "    \"\"\"\n",
    "    return np.mean(np.array(layer_data), axis=2).transpose()\n",
    "\n",
    "log_path = '/data/ljc/convit_logs/' + '20240319105616.txt'\n",
    "log_dics = [json.loads(s.strip()) for s in open(log_path, 'r').readlines()] # sorted by epoch\n",
    "nonlocal_data = []\n",
    "for ep_data in log_dics:\n",
    "    all_layer_data = [ep_data[f'nonlocality_{l}'] for l in range(ep_data['nonlocality_len'])]\n",
    "    nonlocal_data.append(all_layer_data)\n",
    "    \n",
    "nonlocal_data = get_layer_nonlocalities(nonlocal_data)  # shape: (n_layer, epochs)\n",
    "x = list(range(1, nonlocal_data.shape[1] + 1))\n",
    "legends = ['Layer ' + str(i) for i in range(1, nonlocal_data.shape[0] + 1)]\n",
    "\n",
    "draw(x, nonlocal_data, legends, font_size=15)"
   ]
  }
 ],
 "metadata": {
  "kernelspec": {
   "display_name": "normal",
   "language": "python",
   "name": "python3"
  },
  "language_info": {
   "codemirror_mode": {
    "name": "ipython",
    "version": 3
   },
   "file_extension": ".py",
   "mimetype": "text/x-python",
   "name": "python",
   "nbconvert_exporter": "python",
   "pygments_lexer": "ipython3",
   "version": "3.9.7"
  }
 },
 "nbformat": 4,
 "nbformat_minor": 2
}
